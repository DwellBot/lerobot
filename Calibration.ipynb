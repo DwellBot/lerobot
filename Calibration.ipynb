{
 "cells": [
  {
   "cell_type": "code",
   "execution_count": null,
   "id": "da1caa68-8cff-4af4-9a49-f82a7fae9089",
   "metadata": {},
   "outputs": [],
   "source": [
    "from lerobot.common.robot_devices.motors.dynamixel import DynamixelMotorsBus\n",
    "\n",
    "leader_port = \"/dev/tty.usbmodem575E0031751\"\n",
    "follower_port = \"/dev/tty.usbmodem575E0032081\"\n",
    "\n",
    "leader_arm = DynamixelMotorsBus(\n",
    "    port=leader_port,\n",
    "    motors={\n",
    "        # name: (index, model)\n",
    "        \"waist\": (1, \"xm430-w350\"),\n",
    "        \"shoulder_1\": (2, \"xm430-w350\"),\n",
    "        \"shoulder_2\": (3, \"xm430-w350\"),\n",
    "        \"elbow_1\": (4, \"xm430-w350\"),\n",
    "        \"elbow_2\": (5, \"xm430-w350\"),\n",
    "        \"forearm_roll\": (6, \"xm430-w350\"),\n",
    "        \"wrist_angle\": (7, \"xm430-w350\"),\n",
    "        \"wrist_rotate\": (8, \"xl430-w250\"),\n",
    "        \"gripper\": (9, \"xc430-w150\"),\n",
    "    },\n",
    ")\n",
    "\n",
    "follower_arm = DynamixelMotorsBus(\n",
    "    port=follower_port,\n",
    "    motors={\n",
    "        # name: (index, model)\n",
    "        \"waist\": (1, \"xm430-w350\"),\n",
    "        \"shoulder_1\": (2, \"xm430-w350\"),\n",
    "        \"shoulder_2\": (3, \"xm430-w350\"),\n",
    "        \"elbow_1\": (4, \"xm430-w350\"),\n",
    "        \"elbow_2\": (5, \"xm430-w350\"),\n",
    "        \"forearm_roll\": (6, \"xm430-w350\"),\n",
    "        \"wrist_angle\": (7, \"xm430-w350\"),\n",
    "        \"wrist_rotate\": (8, \"xl430-w250\"),\n",
    "        \"gripper\": (9, \"xc430-w150\"),\n",
    "    },\n",
    ")"
   ]
  }
 ],
 "metadata": {
  "kernelspec": {
   "display_name": "Python 3 (ipykernel)",
   "language": "python",
   "name": "python3"
  },
  "language_info": {
   "codemirror_mode": {
    "name": "ipython",
    "version": 3
   },
   "file_extension": ".py",
   "mimetype": "text/x-python",
   "name": "python",
   "nbconvert_exporter": "python",
   "pygments_lexer": "ipython3",
   "version": "3.10.13"
  }
 },
 "nbformat": 4,
 "nbformat_minor": 5
}
